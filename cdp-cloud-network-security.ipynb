{
 "cells": [
  {
   "cell_type": "markdown",
   "id": "d4ee9e4b",
   "metadata": {},
   "source": [
    "***\n",
    "< [Home](https://github.com/SeanOhAileasa) | [README](https://github.com/SeanOhAileasa/cdp-cloud-network-security/blob/main/README.md) >\n",
    "\n",
    "## CompTIA Cloud+ - Course Material 2022\n",
    "###### Topic: ``Cloud Network Security``\n",
    "***"
   ]
  },
  {
   "cell_type": "markdown",
   "id": "e7228f57",
   "metadata": {},
   "source": [
    "<a id=\"top\"></a>\n",
    "***\n",
    "## Table of Contents\n",
    "***"
   ]
  },
  {
   "cell_type": "markdown",
   "id": "c2bb5e7b",
   "metadata": {},
   "source": [
    "### [Cloud Network Security](#aa) <br/><br/>\n",
    "<hr width=50%;>"
   ]
  },
  {
   "cell_type": "markdown",
   "id": "335af4ed",
   "metadata": {},
   "source": [
    "### [Cloud Network Segmentation](#A) <br/><br/>\n",
    "<hr width=50%;>"
   ]
  },
  {
   "cell_type": "markdown",
   "id": "af5d3844",
   "metadata": {},
   "source": [
    "### [Cloud Network Protocols](#B) <br/><br/>\n",
    "<hr width=50%;>"
   ]
  },
  {
   "cell_type": "markdown",
   "id": "d48eea4e",
   "metadata": {},
   "source": [
    "### [Cloud Network Services](#C) <br/><br/>\n",
    "<hr width=50%;>"
   ]
  },
  {
   "cell_type": "markdown",
   "id": "be8203b2",
   "metadata": {},
   "source": [
    "### [Network Flow Analysis and Event Monitoring](#D) <br/><br/>\n",
    "<hr width=50%;>"
   ]
  },
  {
   "cell_type": "markdown",
   "id": "00d1618f",
   "metadata": {},
   "source": [
    "### [Network Hardening](#E) <br/><br/>\n",
    "<hr width=50%;>"
   ]
  },
  {
   "cell_type": "markdown",
   "id": "d0ab8d23",
   "metadata": {},
   "source": [
    "### [Network Security Tools](#F) <br/><br/>\n",
    "<hr width=50%;>"
   ]
  },
  {
   "cell_type": "markdown",
   "id": "41eb198c",
   "metadata": {},
   "source": [
    "### [Vulnerability Assessment](#G) <br/><br/>\n",
    "<hr width=50%;>"
   ]
  },
  {
   "cell_type": "markdown",
   "id": "ba73ec7c",
   "metadata": {},
   "source": [
    "### [Security Patches](#H) <br/><br/>\n",
    "<hr width=50%;>"
   ]
  },
  {
   "cell_type": "markdown",
   "id": "4bed037b",
   "metadata": {},
   "source": [
    "### [Risk Registers and Patch Management Prioritization](#I) <br/><br/>\n",
    "<hr width=50%;>"
   ]
  },
  {
   "cell_type": "markdown",
   "id": "4e2e9a77",
   "metadata": {},
   "source": [
    "### [Security Tools and the Impacts of Service Models](#J) <br/><br/>\n",
    "<hr width=50%;>"
   ]
  },
  {
   "cell_type": "markdown",
   "id": "e989e97c",
   "metadata": {},
   "source": [
    "### [Creating Subnets in a Cloud Virtual Network](#K) <br/><br/>\n",
    "<hr width=50%;>"
   ]
  },
  {
   "cell_type": "markdown",
   "id": "e350cd06",
   "metadata": {},
   "source": [
    "### [Course Summary](#L) <br/><br/>\n",
    "<hr width=50%;>"
   ]
  },
  {
   "cell_type": "markdown",
   "id": "bf2b95e2",
   "metadata": {},
   "source": [
    "***\n",
    "## END"
   ]
  },
  {
   "cell_type": "markdown",
   "id": "34aa6eb5",
   "metadata": {},
   "source": [
    "< [Table of Contents](#top) | [References](#references) >\n",
    "<a id=\"aa\"></a>\n",
    "***\n",
    "### Cloud Network Security\n",
    "***"
   ]
  },
  {
   "cell_type": "markdown",
   "id": "173e78b5",
   "metadata": {},
   "source": []
  },
  {
   "cell_type": "markdown",
   "id": "a38e0d70",
   "metadata": {},
   "source": [
    "< [Table of Contents](#top) | [References](#references) >\n",
    "<a id=\"A\"></a>\n",
    "***\n",
    "### Cloud Network Segmentation\n",
    "*** "
   ]
  },
  {
   "cell_type": "markdown",
   "id": "87ff2276",
   "metadata": {},
   "source": []
  },
  {
   "cell_type": "markdown",
   "id": "2bf55ac7",
   "metadata": {},
   "source": [
    "< [Table of Contents](#top) | [References](#references) >\n",
    "<a id=\"B\"></a>\n",
    "***\n",
    "### Cloud Network Protocols\n",
    "*** "
   ]
  },
  {
   "cell_type": "markdown",
   "id": "751c838b",
   "metadata": {},
   "source": []
  },
  {
   "cell_type": "markdown",
   "id": "ff4bec87",
   "metadata": {},
   "source": [
    "< [Table of Contents](#top) | [References](#references) >\n",
    "<a id=\"C\"></a>\n",
    "***\n",
    "### Cloud Network Services\n",
    "*** "
   ]
  },
  {
   "cell_type": "markdown",
   "id": "b30920dc",
   "metadata": {},
   "source": []
  },
  {
   "cell_type": "markdown",
   "id": "336dfe2f",
   "metadata": {},
   "source": [
    "< [Table of Contents](#top) | [References](#references) >\n",
    "<a id=\"D\"></a>\n",
    "***\n",
    "### Network Flow Analysis and Event Monitoring\n",
    "*** "
   ]
  },
  {
   "cell_type": "markdown",
   "id": "21beac30",
   "metadata": {},
   "source": []
  },
  {
   "cell_type": "markdown",
   "id": "c5ffc657",
   "metadata": {},
   "source": [
    "< [Table of Contents](#top) | [References](#references) >\n",
    "<a id=\"E\"></a>\n",
    "***\n",
    "### Network Hardening\n",
    "*** "
   ]
  },
  {
   "cell_type": "markdown",
   "id": "545e6cc0",
   "metadata": {},
   "source": []
  },
  {
   "cell_type": "markdown",
   "id": "a995e721",
   "metadata": {},
   "source": [
    "< [Table of Contents](#top) | [References](#references) >\n",
    "<a id=\"F\"></a>\n",
    "***\n",
    "### Network Security Tools\n",
    "*** "
   ]
  },
  {
   "cell_type": "markdown",
   "id": "6781066c",
   "metadata": {},
   "source": []
  },
  {
   "cell_type": "markdown",
   "id": "b0058549",
   "metadata": {},
   "source": [
    "< [Table of Contents](#top) | [References](#references) >\n",
    "<a id=\"G\"></a>\n",
    "***\n",
    "### Vulnerability Assessment\n",
    "*** "
   ]
  },
  {
   "cell_type": "markdown",
   "id": "4d4b9547",
   "metadata": {},
   "source": []
  },
  {
   "cell_type": "markdown",
   "id": "2bedf089",
   "metadata": {},
   "source": [
    "< [Table of Contents](#top) | [References](#references) >\n",
    "<a id=\"H\"></a>\n",
    "***\n",
    "### Security Patches\n",
    "*** "
   ]
  },
  {
   "cell_type": "markdown",
   "id": "25fb2af7",
   "metadata": {},
   "source": []
  },
  {
   "cell_type": "markdown",
   "id": "a5a6f15f",
   "metadata": {},
   "source": [
    "< [Table of Contents](#top) | [References](#references) >\n",
    "<a id=\"I\"></a>\n",
    "***\n",
    "### Risk Registers and Patch Management Prioritization\n",
    "*** "
   ]
  },
  {
   "cell_type": "markdown",
   "id": "b0e688ae",
   "metadata": {},
   "source": []
  },
  {
   "cell_type": "markdown",
   "id": "3f6ea9b1",
   "metadata": {},
   "source": [
    "< [Table of Contents](#top) | [References](#references) >\n",
    "<a id=\"J\"></a>\n",
    "***\n",
    "### Security Tools and the Impacts of Service Models\n",
    "*** "
   ]
  },
  {
   "cell_type": "markdown",
   "id": "09cb57d9",
   "metadata": {},
   "source": []
  },
  {
   "cell_type": "markdown",
   "id": "36c2e13d",
   "metadata": {},
   "source": [
    "< [Table of Contents](#top) | [References](#references) >\n",
    "<a id=\"K\"></a>\n",
    "***\n",
    "### Creating Subnets in a Cloud Virtual Network\n",
    "*** "
   ]
  },
  {
   "cell_type": "markdown",
   "id": "87a03f62",
   "metadata": {},
   "source": []
  },
  {
   "cell_type": "markdown",
   "id": "1ab20ab2",
   "metadata": {},
   "source": [
    "< [Table of Contents](#top) | [References](#references) >\n",
    "<a id=\"L\"></a>\n",
    "***\n",
    "### Course Summary\n",
    "*** "
   ]
  },
  {
   "cell_type": "markdown",
   "id": "480e3118",
   "metadata": {},
   "source": []
  },
  {
   "cell_type": "markdown",
   "id": "2cc20932",
   "metadata": {},
   "source": [
    "***\n",
    "## END"
   ]
  },
  {
   "cell_type": "markdown",
   "id": "e0e42d51",
   "metadata": {},
   "source": [
    "< [Table of Contents](#top) >\n",
    "<a id=\"references\"></a>\n",
    "***\n",
    "## References\n",
    "***"
   ]
  },
  {
   "cell_type": "markdown",
   "id": "757bf6de",
   "metadata": {},
   "source": [
    "&nbsp;&nbsp;&nbsp;&nbsp;&nbsp;&nbsp;&nbsp;&nbsp;&nbsp;skillsoft, \"Cloud Network Security,\" [skillsoft.com](https://web.archive.org/web/20220403100053/https://www.skillsoft.com/), n.d.."
   ]
  },
  {
   "cell_type": "markdown",
   "id": "b33c372a",
   "metadata": {},
   "source": [
    "***\n",
    "## END"
   ]
  },
  {
   "cell_type": "markdown",
   "id": "e5961b4d",
   "metadata": {},
   "source": [
    "< [Table of Contents](#top) | [References](#references) >\n",
    "<a id=\"appendix\"></a>\n",
    "***\n",
    "## Appendix\n",
    "***"
   ]
  },
  {
   "cell_type": "markdown",
   "id": "00d82a82",
   "metadata": {},
   "source": [
    "***\n",
    "## END"
   ]
  },
  {
   "cell_type": "code",
   "execution_count": 1,
   "id": "706756a2",
   "metadata": {},
   "outputs": [
    {
     "name": "stderr",
     "output_type": "stream",
     "text": [
      "C:\\Users\\SeanOhAileasa\\AppData\\Local\\Temp\\ipykernel_16496\\1322614208.py:1: DeprecationWarning: Importing display from IPython.core.display is deprecated since IPython 7.14, please import from IPython display\n",
      "  from IPython.core.display import display,HTML\n"
     ]
    },
    {
     "data": {
      "text/html": [
       "<style>.container { width:100% !important; }</style>"
      ],
      "text/plain": [
       "<IPython.core.display.HTML object>"
      ]
     },
     "metadata": {},
     "output_type": "display_data"
    }
   ],
   "source": [
    "from IPython.core.display import display,HTML\n",
    "display(HTML(\"<style>.container { width:100% !important; }</style>\"))"
   ]
  },
  {
   "cell_type": "markdown",
   "id": "899c1783",
   "metadata": {},
   "source": [
    "# END JUPYTER NOTEBOOK"
   ]
  }
 ],
 "metadata": {
  "kernelspec": {
   "display_name": "Python 3 (ipykernel)",
   "language": "python",
   "name": "python3"
  },
  "language_info": {
   "codemirror_mode": {
    "name": "ipython",
    "version": 3
   },
   "file_extension": ".py",
   "mimetype": "text/x-python",
   "name": "python",
   "nbconvert_exporter": "python",
   "pygments_lexer": "ipython3",
   "version": "3.9.12"
  }
 },
 "nbformat": 4,
 "nbformat_minor": 5
}
